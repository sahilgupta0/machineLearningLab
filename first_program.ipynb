{
 "cells": [
  {
   "cell_type": "markdown",
   "id": "69d7ce42-f708-462a-ad2d-b817b7583494",
   "metadata": {},
   "source": [
    "**Consider the given list as [2,7,4,1,3,6]. Write the program to count pairs of elements whose sum equal to 10**"
   ]
  },
  {
   "cell_type": "code",
   "execution_count": 1,
   "id": "12589697-fd28-4939-b896-9988661be94d",
   "metadata": {},
   "outputs": [],
   "source": [
    "l = [2,7,4,1,3,6]"
   ]
  },
  {
   "cell_type": "code",
   "execution_count": 6,
   "id": "a2a5b5cc-994f-4e0c-9cb8-7106fd48d744",
   "metadata": {},
   "outputs": [
    {
     "name": "stdout",
     "output_type": "stream",
     "text": [
      "2\n"
     ]
    }
   ],
   "source": [
    "def pair_count(l):\n",
    "    count = 0\n",
    "    for i in range(len(l)):\n",
    "        for j in range(i+1,len(l)):\n",
    "            if (l[i] + l[j]) == 10:\n",
    "                count = count + 1\n",
    "    return count\n",
    "print(pair_count(l))"
   ]
  },
  {
   "cell_type": "markdown",
   "id": "b105874f-1fbf-4300-bf28-db9eff56d6ce",
   "metadata": {},
   "source": [
    "**Write a program that takes a list of real numbers as input and returns the range (difference \n",
    "between minimum and maximum) of the list. Check for list being less than 3 elements in \n",
    "which case return an error message (Ex: “Range determination not possible”). Given a list\n",
    "[5,3,8,1,0,4], the range is 8 (8-0).**"
   ]
  },
  {
   "cell_type": "code",
   "execution_count": 18,
   "id": "d7e86ee4-aac2-4bb3-980f-615b12866759",
   "metadata": {},
   "outputs": [
    {
     "name": "stdin",
     "output_type": "stream",
     "text": [
      "Enter the length of list: 6\n",
      "Enter the data: 2\n",
      "Enter the data: 1\n",
      "Enter the data: 3\n",
      "Enter the data: 6\n",
      "Enter the data: 3\n",
      "Enter the data: 8\n"
     ]
    },
    {
     "name": "stdout",
     "output_type": "stream",
     "text": [
      "[2.0, 1.0, 3.0, 6.0, 3.0, 8.0]\n",
      "7.0\n"
     ]
    }
   ],
   "source": [
    "def getrange(li):\n",
    "    if(len(li) < 3):\n",
    "        print(\"Range determination not possible\")\n",
    "        return -1\n",
    "    else:\n",
    "        mn = li[0]\n",
    "        mx = li[0]\n",
    "        for i in range(1,len(li)):\n",
    "            if mn > li[i]:\n",
    "                mn = li[i]\n",
    "            if mx < li[i]:\n",
    "                mx = li[i]\n",
    "        return mx-mn\n",
    "    \n",
    "length = int(input(\"Enter the length of list:\"))\n",
    "l2 = []\n",
    "for i in range(length):\n",
    "    x = float(input(\"Enter the data:\"))\n",
    "    l2.append(x)\n",
    "print(l2)\n",
    "print(getrange(l2))\n"
   ]
  },
  {
   "cell_type": "markdown",
   "id": "e0630e61-b88a-4179-82ca-7fdad6fb25d7",
   "metadata": {},
   "source": [
    "**q3**"
   ]
  },
  {
   "cell_type": "code",
   "execution_count": 38,
   "id": "f1604f25-8d11-4a5f-a142-57b5431b6bec",
   "metadata": {},
   "outputs": [
    {
     "name": "stdin",
     "output_type": "stream",
     "text": [
      "Enter the dimenstion of square matrix 3\n",
      "Enter the element 1\n",
      "Enter the element 1\n",
      "Enter the element 1\n",
      "Enter the element 1\n",
      "Enter the element 1\n",
      "Enter the element 1\n",
      "Enter the element 1\n",
      "Enter the element 1\n",
      "Enter the element 1\n"
     ]
    },
    {
     "name": "stdout",
     "output_type": "stream",
     "text": [
      "[[1, 1, 1], [1, 1, 1], [1, 1, 1]]\n"
     ]
    },
    {
     "name": "stdin",
     "output_type": "stream",
     "text": [
      "Enter the power: 3\n"
     ]
    },
    {
     "name": "stdout",
     "output_type": "stream",
     "text": [
      "[[9, 9, 9], [9, 9, 9], [9, 9, 9]]\n"
     ]
    }
   ],
   "source": [
    "def multiply(l1,l2):\n",
    "    ans = []\n",
    "    for i in range(len(l1)):\n",
    "        l = []\n",
    "        for j in range(len(l2[0])):\n",
    "            sum = 0\n",
    "            for k in range(len(l2[0])):\n",
    "                sum += l1[i][k] * l2[k][j]\n",
    "            l.append(sum)\n",
    "        ans.append(l)\n",
    "    return ans\n",
    "                \n",
    "def matpower(li,p):\n",
    "    ans = li\n",
    "    for i in range(p-1):\n",
    "        ans = multiply(ans,li)\n",
    "    return ans\n",
    "\n",
    "n = int(input(\"Enter the dimenstion of square matrix\"))\n",
    "li = []\n",
    "for i in range(n):\n",
    "    l = []\n",
    "    for j in range(n):\n",
    "        x = int(input(\"Enter the element\"))\n",
    "        l.append(x)\n",
    "    li.append(l)\n",
    "\n",
    "print(li)\n",
    "p = int(input(\"Enter the power:\"))\n",
    "print(matpower(li,p))"
   ]
  },
  {
   "cell_type": "code",
   "execution_count": 42,
   "id": "151fc1f7-a894-474b-b885-48ef057321ea",
   "metadata": {},
   "outputs": [
    {
     "name": "stdin",
     "output_type": "stream",
     "text": [
      "Enter the word purabaa\n"
     ]
    },
    {
     "name": "stdout",
     "output_type": "stream",
     "text": [
      "a 3\n"
     ]
    }
   ],
   "source": [
    "mydic = {}\n",
    "string = input(\"Enter the word\")\n",
    "for i in string:\n",
    "    mydic[i] = 0\n",
    "for i in string:\n",
    "    mydic[i] += 1\n",
    "ch = \"\"\n",
    "mx = 0\n",
    "for i in string:\n",
    "    if(mx<mydic[i]):\n",
    "        ch = i\n",
    "print(ch,mydic[ch])"
   ]
  },
  {
   "cell_type": "code",
   "execution_count": null,
   "id": "7cc0428a-5ca5-4dac-a6db-299c293b96c2",
   "metadata": {},
   "outputs": [],
   "source": []
  }
 ],
 "metadata": {
  "kernelspec": {
   "display_name": "Python 3 (ipykernel)",
   "language": "python",
   "name": "python3"
  },
  "language_info": {
   "codemirror_mode": {
    "name": "ipython",
    "version": 3
   },
   "file_extension": ".py",
   "mimetype": "text/x-python",
   "name": "python",
   "nbconvert_exporter": "python",
   "pygments_lexer": "ipython3",
   "version": "3.10.12"
  }
 },
 "nbformat": 4,
 "nbformat_minor": 5
}
