{
 "cells": [
  {
   "cell_type": "code",
   "execution_count": 1,
   "id": "b28a32ca-e94d-4f9f-bb6c-00e50df3177c",
   "metadata": {},
   "outputs": [],
   "source": [
    "import pandas as pd\n",
    "import numpy  as np"
   ]
  },
  {
   "cell_type": "code",
   "execution_count": 2,
   "id": "01d2949d-8468-4470-9995-bcdf2af08255",
   "metadata": {},
   "outputs": [
    {
     "data": {
      "text/html": [
       "<div>\n",
       "<style scoped>\n",
       "    .dataframe tbody tr th:only-of-type {\n",
       "        vertical-align: middle;\n",
       "    }\n",
       "\n",
       "    .dataframe tbody tr th {\n",
       "        vertical-align: top;\n",
       "    }\n",
       "\n",
       "    .dataframe thead th {\n",
       "        text-align: right;\n",
       "    }\n",
       "</style>\n",
       "<table border=\"1\" class=\"dataframe\">\n",
       "  <thead>\n",
       "    <tr style=\"text-align: right;\">\n",
       "      <th></th>\n",
       "      <th>image</th>\n",
       "      <th>Valence_score</th>\n",
       "      <th>Arousal_score</th>\n",
       "    </tr>\n",
       "  </thead>\n",
       "  <tbody>\n",
       "    <tr>\n",
       "      <th>0</th>\n",
       "      <td>30</td>\n",
       "      <td>6</td>\n",
       "      <td>0</td>\n",
       "    </tr>\n",
       "    <tr>\n",
       "      <th>1</th>\n",
       "      <td>86</td>\n",
       "      <td>5</td>\n",
       "      <td>1</td>\n",
       "    </tr>\n",
       "    <tr>\n",
       "      <th>2</th>\n",
       "      <td>80</td>\n",
       "      <td>2</td>\n",
       "      <td>1</td>\n",
       "    </tr>\n",
       "    <tr>\n",
       "      <th>3</th>\n",
       "      <td>166</td>\n",
       "      <td>3</td>\n",
       "      <td>0</td>\n",
       "    </tr>\n",
       "    <tr>\n",
       "      <th>4</th>\n",
       "      <td>30</td>\n",
       "      <td>8</td>\n",
       "      <td>1</td>\n",
       "    </tr>\n",
       "  </tbody>\n",
       "</table>\n",
       "</div>"
      ],
      "text/plain": [
       "   image  Valence_score  Arousal_score\n",
       "0     30              6              0\n",
       "1     86              5              1\n",
       "2     80              2              1\n",
       "3    166              3              0\n",
       "4     30              8              1"
      ]
     },
     "execution_count": 2,
     "metadata": {},
     "output_type": "execute_result"
    }
   ],
   "source": [
    "df = pd.DataFrame()\n",
    "rows = [29,86,80,166]\n",
    "for j in range(1,33):\n",
    "    if j == 24:\n",
    "        continue\n",
    "    data = pd.read_excel(f\"./dataset/P{j}/val_aro.xls\")\n",
    "    extracted_rows = data.iloc[rows,:]\n",
    "    df = pd.concat([df, extracted_rows], ignore_index=True)\n",
    "df.head()"
   ]
  },
  {
   "cell_type": "code",
   "execution_count": 3,
   "id": "4a529b8f-b578-4a2b-b1d5-91c13b0295e4",
   "metadata": {
    "scrolled": true
   },
   "outputs": [
    {
     "data": {
      "text/html": [
       "<div>\n",
       "<style scoped>\n",
       "    .dataframe tbody tr th:only-of-type {\n",
       "        vertical-align: middle;\n",
       "    }\n",
       "\n",
       "    .dataframe tbody tr th {\n",
       "        vertical-align: top;\n",
       "    }\n",
       "\n",
       "    .dataframe thead th {\n",
       "        text-align: right;\n",
       "    }\n",
       "</style>\n",
       "<table border=\"1\" class=\"dataframe\">\n",
       "  <thead>\n",
       "    <tr style=\"text-align: right;\">\n",
       "      <th></th>\n",
       "      <th>image</th>\n",
       "      <th>Valence_score</th>\n",
       "      <th>Arousal_score</th>\n",
       "      <th>class</th>\n",
       "    </tr>\n",
       "  </thead>\n",
       "  <tbody>\n",
       "    <tr>\n",
       "      <th>0</th>\n",
       "      <td>30</td>\n",
       "      <td>6</td>\n",
       "      <td>0</td>\n",
       "      <td>Pleasant</td>\n",
       "    </tr>\n",
       "    <tr>\n",
       "      <th>1</th>\n",
       "      <td>86</td>\n",
       "      <td>5</td>\n",
       "      <td>1</td>\n",
       "      <td>Pleasant</td>\n",
       "    </tr>\n",
       "    <tr>\n",
       "      <th>2</th>\n",
       "      <td>80</td>\n",
       "      <td>2</td>\n",
       "      <td>1</td>\n",
       "      <td>unpleasant</td>\n",
       "    </tr>\n",
       "    <tr>\n",
       "      <th>3</th>\n",
       "      <td>166</td>\n",
       "      <td>3</td>\n",
       "      <td>0</td>\n",
       "      <td>unpleasant</td>\n",
       "    </tr>\n",
       "    <tr>\n",
       "      <th>4</th>\n",
       "      <td>30</td>\n",
       "      <td>8</td>\n",
       "      <td>1</td>\n",
       "      <td>Pleasant</td>\n",
       "    </tr>\n",
       "  </tbody>\n",
       "</table>\n",
       "</div>"
      ],
      "text/plain": [
       "   image  Valence_score  Arousal_score       class\n",
       "0     30              6              0    Pleasant\n",
       "1     86              5              1    Pleasant\n",
       "2     80              2              1  unpleasant\n",
       "3    166              3              0  unpleasant\n",
       "4     30              8              1    Pleasant"
      ]
     },
     "execution_count": 3,
     "metadata": {},
     "output_type": "execute_result"
    }
   ],
   "source": [
    "df['class'] = df['image'].apply(lambda x: \"Pleasant\" if x in [30, 86] else \"unpleasant\")\n",
    "df.head()"
   ]
  },
  {
   "cell_type": "code",
   "execution_count": 4,
   "id": "b3f1ed28-bcf8-413f-82e9-fc848387c6ef",
   "metadata": {},
   "outputs": [],
   "source": [
    "df.drop(\"image\",axis=1,inplace = True)"
   ]
  },
  {
   "cell_type": "code",
   "execution_count": 5,
   "id": "6d0c1ff7-e6d1-453b-bc14-60792f9e3acb",
   "metadata": {},
   "outputs": [
    {
     "data": {
      "text/plain": [
       "array([[4.7027027 , 0.54054054],\n",
       "       [4.56321839, 0.44827586]])"
      ]
     },
     "execution_count": 5,
     "metadata": {},
     "output_type": "execute_result"
    }
   ],
   "source": [
    "temp = df.groupby('class').mean()\n",
    "meanVec = np.array(temp)\n",
    "meanVec"
   ]
  },
  {
   "cell_type": "code",
   "execution_count": 6,
   "id": "3ae06a40-c3ec-4b22-a5df-72172e1f57d1",
   "metadata": {},
   "outputs": [
    {
     "data": {
      "text/plain": [
       "array([[2.35542948, 0.50522792],\n",
       "       [2.33128944, 0.50020044]])"
      ]
     },
     "execution_count": 6,
     "metadata": {},
     "output_type": "execute_result"
    }
   ],
   "source": [
    "temp = df.groupby('class').std()\n",
    "stdVec = np.array(temp)\n",
    "stdVec"
   ]
  },
  {
   "cell_type": "code",
   "execution_count": 7,
   "id": "a115be39-b49b-4912-a804-1499bd3dd2fc",
   "metadata": {},
   "outputs": [
    {
     "name": "stdout",
     "output_type": "stream",
     "text": [
      "Distance: 0.16723828556628706\n"
     ]
    }
   ],
   "source": [
    "print(\"Distance:\",np.linalg.norm(meanVec[0]-meanVec[1]))"
   ]
  },
  {
   "cell_type": "code",
   "execution_count": 8,
   "id": "7328f38a-bad9-4932-9bd2-dc0597c0420a",
   "metadata": {},
   "outputs": [
    {
     "data": {
      "image/png": "[encoded data removed]",
      "text/plain": [
       "<Figure size 640x480 with 1 Axes>"
      ]
     },
     "metadata": {},
     "output_type": "display_data"
    },
    {
     "name": "stdout",
     "output_type": "stream",
     "text": [
      "Mean of feature1: 4.604838709677419\n",
      "Variance of feature1: 5.384170135275753\n"
     ]
    }
   ],
   "source": [
    "import matplotlib.pyplot as plt\n",
    "feature = df['Valence_score']\n",
    "\n",
    "# Generate the histogram data (bins can be adjusted as needed)\n",
    "hist, bin_edges = np.histogram(feature, bins=5)\n",
    "\n",
    "# Plot the histogram\n",
    "plt.hist(feature, bins=5, edgecolor='black')\n",
    "plt.title('Histogram of feature1')\n",
    "plt.xlabel('Feature Value')\n",
    "plt.ylabel('Frequency')\n",
    "plt.show()\n",
    "\n",
    "# Calculate the mean and variance of the feature\n",
    "mean = np.mean(feature)\n",
    "variance = np.var(feature)\n",
    "\n",
    "print(\"Mean of feature1:\", mean)\n",
    "print(\"Variance of feature1:\", variance)"
   ]
  },
  {
   "cell_type": "code",
   "execution_count": 9,
   "id": "7ebdc65b-c050-4045-a45b-24a986641649",
   "metadata": {},
   "outputs": [
    {
     "data": {
      "image/png": "[encoded data removed]",
      "text/plain": [
       "<Figure size 640x480 with 1 Axes>"
      ]
     },
     "metadata": {},
     "output_type": "display_data"
    },
    {
     "name": "stdout",
     "output_type": "stream",
     "text": [
      "Minkowski distance with r=1: 512.0\n",
      "Minkowski distance with r=2: 53.04714883949938\n",
      "Minkowski distance with r=3: 25.815258486104234\n",
      "Minkowski distance with r=4: 18.262957189232704\n",
      "Minkowski distance with r=5: 14.944908410739307\n",
      "Minkowski distance with r=6: 13.131869578986747\n",
      "Minkowski distance with r=7: 12.008381467178484\n",
      "Minkowski distance with r=8: 11.253282015960037\n",
      "Minkowski distance with r=9: 10.716254047213877\n",
      "Minkowski distance with r=10: 10.318090042347237\n"
     ]
    }
   ],
   "source": [
    "x = df['Valence_score'].values\n",
    "y = df['Arousal_score'].values\n",
    "\n",
    "# Calculate Minkowski distance for r from 1 to 10\n",
    "distances = []\n",
    "r_values = range(1, 11)\n",
    "\n",
    "for r in r_values:\n",
    "    distance = np.sum(np.abs(x - y) ** r) ** (1 / r)\n",
    "    distances.append(distance)\n",
    "\n",
    "# Plot the distances\n",
    "plt.plot(r_values, distances, marker='o')\n",
    "plt.title('Minkowski Distance for r from 1 to 10')\n",
    "plt.xlabel('r')\n",
    "plt.ylabel('Distance')\n",
    "plt.grid(True)\n",
    "plt.show()\n",
    "\n",
    "# Print the distances for each r\n",
    "for r, dist in zip(r_values, distances):\n",
    "    print(f\"Minkowski distance with r={r}: {dist}\")"
   ]
  },
  {
   "cell_type": "code",
   "execution_count": 10,
   "id": "88997400-b5ab-42e5-a59b-1310404a8434",
   "metadata": {},
   "outputs": [],
   "source": [
    "from sklearn.model_selection import train_test_split\n",
    "X = df[[\"Valence_score\",\"Arousal_score\"]].values\n",
    "y = df[\"class\"].values\n",
    "X_train, X_test, y_train, y_test = train_test_split(X, y, test_size=0.3)"
   ]
  },
  {
   "cell_type": "code",
   "execution_count": 11,
   "id": "1e26bf75-d123-46ca-8cf6-dced17ab2ce1",
   "metadata": {},
   "outputs": [
    {
     "data": {
      "text/plain": [
       "0.5"
      ]
     },
     "execution_count": 11,
     "metadata": {},
     "output_type": "execute_result"
    }
   ],
   "source": [
    "from sklearn.neighbors import KNeighborsClassifier\n",
    "neigh = KNeighborsClassifier(n_neighbors=3)\n",
    "\n",
    "# Train the classifier using the training data\n",
    "neigh.fit(X_train, y_train)\n",
    "neigh.score(X_test,y_test)"
   ]
  },
  {
   "cell_type": "code",
   "execution_count": 12,
   "id": "5731602c-b583-4be8-b544-290f88e15a48",
   "metadata": {},
   "outputs": [
    {
     "data": {
      "text/plain": [
       "array(['unpleasant'], dtype=object)"
      ]
     },
     "execution_count": 12,
     "metadata": {},
     "output_type": "execute_result"
    }
   ],
   "source": [
    "# # Output the model's predictions for the test set\n",
    "neigh.predict([X_test[0]])\n"
   ]
  },
  {
   "cell_type": "code",
   "execution_count": 13,
   "id": "52285a4e-12fb-4dc4-b01e-ed2289921156",
   "metadata": {},
   "outputs": [
    {
     "data": {
      "text/plain": [
       "0.47368421052631576"
      ]
     },
     "execution_count": 13,
     "metadata": {},
     "output_type": "execute_result"
    }
   ],
   "source": [
    "neigh = KNeighborsClassifier(n_neighbors=1)\n",
    "\n",
    "# Train the classifier using the training data\n",
    "neigh.fit(X_train, y_train)\n",
    "neigh.score(X_test,y_test)"
   ]
  },
  {
   "cell_type": "code",
   "execution_count": 14,
   "id": "c5e84063-70b4-4ff2-84f1-f239740c716f",
   "metadata": {},
   "outputs": [
    {
     "data": {
      "text/plain": [
       "array(['unpleasant'], dtype=object)"
      ]
     },
     "execution_count": 14,
     "metadata": {},
     "output_type": "execute_result"
    }
   ],
   "source": [
    "neigh.predict([X_test[0]])"
   ]
  },
  {
   "cell_type": "code",
   "execution_count": 15,
   "id": "002205b2-6462-40b5-8f7e-a73dc37fb9c9",
   "metadata": {},
   "outputs": [
    {
     "name": "stdout",
     "output_type": "stream",
     "text": [
      "Accuracy with k=1: 0.47368421052631576\n",
      "Accuracy with k=2: 0.47368421052631576\n",
      "Accuracy with k=3: 0.5\n",
      "Accuracy with k=4: 0.5\n",
      "Accuracy with k=5: 0.6842105263157895\n",
      "Accuracy with k=6: 0.6052631578947368\n",
      "Accuracy with k=7: 0.6578947368421053\n",
      "Accuracy with k=8: 0.631578947368421\n",
      "Accuracy with k=9: 0.6578947368421053\n",
      "Accuracy with k=10: 0.631578947368421\n",
      "Accuracy with k=11: 0.6578947368421053\n"
     ]
    }
   ],
   "source": [
    "from sklearn.metrics import accuracy_score\n",
    "# List to store accuracy for different values of k\n",
    "accuracies = []\n",
    "\n",
    "# Vary k from 1 to 11\n",
    "k_values = range(1, 12)\n",
    "\n",
    "for k in k_values:\n",
    "    # Create and train the kNN classifier with the current k\n",
    "    neigh = KNeighborsClassifier(n_neighbors=k)\n",
    "    neigh.fit(X_train, y_train)\n",
    "    \n",
    "    # Predict on the test set\n",
    "    y_pred = neigh.predict(X_test)\n",
    "    \n",
    "    # Calculate accuracy\n",
    "    accuracy = accuracy_score(y_test, y_pred)\n",
    "    accuracies.append(accuracy)\n",
    "\n",
    "    print(f\"Accuracy with k={k}: {accuracy}\")"
   ]
  },
  {
   "cell_type": "code",
   "execution_count": 16,
   "id": "bc464864-8eb6-4ae2-96e3-ac24206009cc",
   "metadata": {},
   "outputs": [
    {
     "data": {
      "image/png": "[encoded data removed]",
      "text/plain": [
       "<Figure size 640x480 with 1 Axes>"
      ]
     },
     "metadata": {},
     "output_type": "display_data"
    }
   ],
   "source": [
    "# Plot accuracy vs. k\n",
    "plt.plot(k_values, accuracies, marker='o')\n",
    "plt.title('Accuracy vs. k in kNN Classifier')\n",
    "plt.xlabel('k')\n",
    "plt.ylabel('Accuracy')\n",
    "plt.grid(True)\n",
    "plt.show()"
   ]
  },
  {
   "cell_type": "code",
   "execution_count": 17,
   "id": "ffef3208-21ce-4c8e-a22b-a7aff18566ec",
   "metadata": {},
   "outputs": [],
   "source": [
    "from sklearn.metrics import confusion_matrix, precision_score, recall_score, f1_score, classification_report\n",
    "import seaborn as sns"
   ]
  },
  {
   "cell_type": "code",
   "execution_count": 18,
   "id": "1cad80b8-f2cb-4e07-b3fc-0060411646e7",
   "metadata": {},
   "outputs": [],
   "source": [
    "# Create a kNN classifier with k=3\n",
    "neigh = KNeighborsClassifier(n_neighbors=3)\n",
    "\n",
    "# Train the classifier using the training data\n",
    "neigh.fit(X_train, y_train)\n",
    "\n",
    "# Predict on both training and testing sets\n",
    "y_train_pred = neigh.predict(X_train)\n",
    "y_test_pred = neigh.predict(X_test)"
   ]
  },
  {
   "cell_type": "code",
   "execution_count": 19,
   "id": "1114a657-9f00-494d-8af6-a2e3601387dd",
   "metadata": {},
   "outputs": [
    {
     "name": "stdout",
     "output_type": "stream",
     "text": [
      "Confusion Matrix - Training Data:\n",
      " [[14 10]\n",
      " [13 49]]\n",
      "Confusion Matrix - Test Data:\n",
      " [[ 5  8]\n",
      " [11 14]]\n",
      "\n",
      "Classification Report - Training Data:\n",
      "              precision    recall  f1-score   support\n",
      "\n",
      "    Pleasant       0.52      0.58      0.55        24\n",
      "  unpleasant       0.83      0.79      0.81        62\n",
      "\n",
      "    accuracy                           0.73        86\n",
      "   macro avg       0.67      0.69      0.68        86\n",
      "weighted avg       0.74      0.73      0.74        86\n",
      "\n",
      "\n",
      "Classification Report - Test Data:\n",
      "              precision    recall  f1-score   support\n",
      "\n",
      "    Pleasant       0.31      0.38      0.34        13\n",
      "  unpleasant       0.64      0.56      0.60        25\n",
      "\n",
      "    accuracy                           0.50        38\n",
      "   macro avg       0.47      0.47      0.47        38\n",
      "weighted avg       0.53      0.50      0.51        38\n",
      "\n"
     ]
    },
    {
     "data": {
      "text/plain": [
       "Text(627.9949494949494, 0.5, 'Actual')"
      ]
     },
     "execution_count": 19,
     "metadata": {},
     "output_type": "execute_result"
    },
    {
     "data": {
      "image/png": "[encoded data removed]",
      "text/plain": [
       "<Figure size 1200x500 with 4 Axes>"
      ]
     },
     "metadata": {},
     "output_type": "display_data"
    }
   ],
   "source": [
    "# Confusion matrix for training data\n",
    "cm_train = confusion_matrix(y_train, y_train_pred)\n",
    "print(\"Confusion Matrix - Training Data:\\n\", cm_train)\n",
    "\n",
    "# Confusion matrix for test data\n",
    "cm_test = confusion_matrix(y_test, y_test_pred)\n",
    "print(\"Confusion Matrix - Test Data:\\n\", cm_test)\n",
    "\n",
    "# Calculate precision, recall, and F1-score for training data\n",
    "print(\"\\nClassification Report - Training Data:\")\n",
    "print(classification_report(y_train, y_train_pred))\n",
    "\n",
    "# Calculate precision, recall, and F1-score for test data\n",
    "print(\"\\nClassification Report - Test Data:\")\n",
    "print(classification_report(y_test, y_test_pred))\n",
    "\n",
    "# Plot confusion matrix\n",
    "fig, ax = plt.subplots(1, 2, figsize=(12, 5))\n",
    "sns.heatmap(cm_train, annot=True, fmt='d', cmap='Blues', ax=ax[0])\n",
    "ax[0].set_title('Confusion Matrix - Training Data')\n",
    "ax[0].set_xlabel('Predicted')\n",
    "ax[0].set_ylabel('Actual')\n",
    "\n",
    "sns.heatmap(cm_test, annot=True, fmt='d', cmap='Blues', ax=ax[1])\n",
    "ax[1].set_title('Confusion Matrix - Test Data')\n",
    "ax[1].set_xlabel('Predicted')\n",
    "ax[1].set_ylabel('Actual')"
   ]
  },
  {
   "cell_type": "code",
   "execution_count": null,
   "id": "fc10e911-d397-4682-8059-f4c87f15e708",
   "metadata": {},
   "outputs": [],
   "source": []
  }
 ],
 "metadata": {
  "kernelspec": {
   "display_name": "Python 3 (ipykernel)",
   "language": "python",
   "name": "python3"
  },
  "language_info": {
   "codemirror_mode": {
    "name": "ipython",
    "version": 3
   },
   "file_extension": ".py",
   "mimetype": "text/x-python",
   "name": "python",
   "nbconvert_exporter": "python",
   "pygments_lexer": "ipython3",
   "version": "3.10.12"
  }
 },
 "nbformat": 4,
 "nbformat_minor": 5
}
